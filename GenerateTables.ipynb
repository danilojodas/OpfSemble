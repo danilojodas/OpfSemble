{
 "cells": [
  {
   "cell_type": "code",
   "execution_count": 52,
   "metadata": {},
   "outputs": [
    {
     "name": "stdout",
     "output_type": "stream",
     "text": [
      "Automatically created module for IPython interactive environment\n"
     ]
    }
   ],
   "source": [
    "print(__doc__)\n",
    "import sys\n",
    "import numpy as np\n",
    "from print_table import PT\n",
    "\n",
    "datasets = ['accent','cervical_cancer','diagnostic','forestTypes','glass','indian_liver','iris',\n",
    "            'mammographic','messidor','prognostic','seismic_bumps','vertebral_column']\n",
    "            #'vehicle',,\n",
    "            #,]#'wilt','secom', 'spam'\n",
    "\n",
    "alias_Dataset = ['Accent','Cervical Cancer','Diagnostic','Forest Types','Glass','Indian Liver','Iris',\n",
    "                'Mammographic','DDR','Prognostic','Seismic Bumps','Vertebral Column']\n",
    "                #'DDR',\n",
    "                #'Vehicle',\n",
    "                # ,]#,'Secom', 'Spam'\n",
    "\n",
    "algorithms = None\n",
    "alias_algorithms = None\n",
    "\n",
    "tipos = ['baseline','opf','superLearner','divPruning','subspace']\n",
    "\n",
    "n_classifiers = [10,30,50,100]"
   ]
  },
  {
   "cell_type": "code",
   "execution_count": 53,
   "metadata": {},
   "outputs": [],
   "source": [
    "class Algorithms(object):\n",
    "    def __init__(self):\n",
    "        self.algorithms_opf = ['mode','average','intercluster','mode_best','intracluster']\n",
    "        self.alias_algorithms_opf = ['OpfSemble Mode','OpfSemble Average','OpfSemble Intercluster','OpfSemble Mode Best','OpfSemble Intracluster']\n",
    "\n",
    "        self.algorithms_superLearner = ['Super_Learner','Super_Learner_Full']\n",
    "        self.alias_algorithms_superLearner = ['SuperLearner','SuperLearner Full']\n",
    "\n",
    "        self.algorithms_divPruning = ['MoCART','MoKNN','MoMLP','MoNB','MoRCART','MoRKNN','MoRMLP','MoRNB','PrCART','PrKNN','PrMLP','PrNB']\n",
    "        self.alias_algorithms_divPruning = ['MoCART','MoKNN','MoMLP','MoNB','MoRCART','MoRKNN','MoRMLP','MoRNB','PrCART','PrKNN','PrMLP','PrNB']\n",
    "\n",
    "        self.algorithms_subspace = ['AggrCART','AggrKNN','AggrMLP','AggrNB','MVCART','MVKNN','MVMLP','MVNB']\n",
    "        self.alias_algorithms_subspace = ['AggrCART','AggrKNN','AggrMLP','AggrNB','MVCART','MVKNN','MVMLP','MVNB']\n",
    "\n",
    "        self.algorithms_baseline = None\n",
    "        self.alias_algorithms_baseline = None        \n",
    "\n",
    "    def getAlgorithm(self, tipo):\n",
    "        if tipo=='opf':\n",
    "            return self.algorithms_opf\n",
    "        elif tipo=='superLearner':\n",
    "            return self.algorithms_superLearner\n",
    "        elif tipo=='divPruning':\n",
    "            return self.algorithms_divPruning\n",
    "        elif tipo=='subspace':\n",
    "            return self.algorithms_subspace\n",
    "        elif tipo=='baseline':\n",
    "            return self.algorithms_baseline\n",
    "        \n",
    "    def getAliasAlgorithm(self, tipo):\n",
    "        if tipo=='opf':\n",
    "            return  self.alias_algorithms_opf\n",
    "        elif tipo=='superLearner':\n",
    "            return  self.alias_algorithms_superLearner\n",
    "        elif tipo=='divPruning':\n",
    "            return  self.alias_algorithms_divPruning\n",
    "        elif tipo=='subspace':\n",
    "            return  self.alias_algorithms_subspace\n",
    "        elif tipo=='baseline':\n",
    "            return  self.alias_algorithms_baseline\n",
    "        \n",
    "    def getAliasAndAlgorithm(self, tipo):\n",
    "        if tipo=='opf':\n",
    "            return self.algorithms_opf,  self.alias_algorithms_opf\n",
    "        elif tipo=='superLearner':\n",
    "            return self.algorithms_superLearner,  self.alias_algorithms_superLearner\n",
    "        elif tipo=='divPruning':\n",
    "            return self.algorithms_divPruning,  self.alias_algorithms_divPruning\n",
    "        elif tipo=='subspace':\n",
    "            return self.algorithms_subspace,  self.alias_algorithms_subspace\n",
    "        elif tipo=='baseline':\n",
    "            return self.algorithms_baseline,  self.alias_algorithms_baseline\n",
    "\n",
    "    def getAlgorithmConcat(self, tipo):        \n",
    "        alg_opf, alias_opf = self.getAliasAndAlgorithm('opf')\n",
    "        alg_comp, alias_alg_comp = self.getAliasAndAlgorithm(tipo)\n",
    "        \n",
    "        \n",
    "        try:\n",
    "            return  np.concatenate((alg_opf,alg_comp), axis=0), np.concatenate((alias_opf,alias_alg_comp), axis=0)\n",
    "        except:\n",
    "            return  alg_opf, alias_opf"
   ]
  },
  {
   "cell_type": "code",
   "execution_count": 54,
   "metadata": {},
   "outputs": [],
   "source": [
    "def impressao(valores,matrizWilcoxon, n_clas, tipo):\n",
    "    output= open('table_{}_{}.txt'.format(n_clas,tipo), \"w\")\n",
    "\n",
    "    imprimir =''\n",
    "\n",
    "    imprimir = imprimir + str('\\\\begin{table*}[!htb]\\n')\n",
    "    imprimir = imprimir + str('\\\\caption{{F1 results considering {} over ${}$ classifiers ensamble.}}\\n'.format(tipo, n_clas))\n",
    "    imprimir = imprimir + str('\\\\begin{center}\\n')\n",
    "    imprimir = imprimir + str('\\\\renewcommand{\\\\arraystretch}{1.5}\\n')\n",
    "    imprimir = imprimir + str('\\\\setlength{\\\\tabcolsep}{6pt}\\n')\n",
    "    imprimir = imprimir + str('\\\\resizebox{\\\\textwidth}{!}{\\n')\n",
    "    imprimir = imprimir + str.replace(str(' '.join(['\\\\begin{tabular}{c|'] + ['c|']*int(len(datasets)-1)) + 'c}\\n'),' ','')\n",
    "    imprimir = imprimir + str.replace(str(' '.join(['\\\\hhline{-|'] + ['-|']*int(len(datasets))) + '}\\n'),' ','')\n",
    "    imprimir = imprimir + str.replace(str(' '.join(['\\\\hhline{-|'] + ['-|']*int(len(datasets))) + '}\\n'),' ','')\n",
    "    imprimir = imprimir + str.replace(str(' '.join(['\\\\hhline{-|'] + ['-|']*int(len(datasets))) + '}\\n'),' ','')\n",
    "\n",
    "    headers = '{\\cellcolor[HTML]{EFEFEF}{\\\\textbf{Algorithm}}} ' \n",
    "    for alg in range(len(algorithms)):\n",
    "    \n",
    "        f1 =  '\\\\textbf{{{}}}'.format(alias_algorithms[alg])\n",
    "        for ds in range(len(datasets)):\n",
    "        \n",
    "            headers = headers +' & {{\\cellcolor[HTML]{{EFEFEF}}{{\\\\textbf{{{}}}}}}}'.format(alias_Dataset[ds])\n",
    "            \n",
    "            if int(matrizWilcoxon[ds,alg])==2:\n",
    "                f1 =         f1 + str(' & $\\\\underline{{\\\\bm{{{0:.4f}\\pm{1:.4f}}}}}$'.format(valores[ds,alg,4],valores[ds,alg,5]))\n",
    "            elif int(matrizWilcoxon[ds,alg])==1:\n",
    "                f1 =         f1 + str(' & $\\\\bm{{{0:.4f}\\pm{1:.4f}}}$'.format(valores[ds,alg,4],valores[ds,alg,5]))\n",
    "            else:\n",
    "                f1 =        f1 + str(' & ${0:.4f}\\pm{1:.4f}$'.format(valores[ds,alg,4],valores[ds,alg,5]))\n",
    "\n",
    "        headers = headers + str('\\\\\\\\ \\\\hline\\n')\n",
    "\n",
    "\n",
    "        if alg <= len(algorithms)-2:\n",
    "            f1 = f1 +  str('\\\\\\\\\\\\hline\\n')\n",
    "        else:\n",
    "            f1 = f1+ str('\\\\\\\\\\n')\n",
    "\n",
    "        if alg == 0:\n",
    "            imprimir = imprimir + headers +  f1\n",
    "        else:\n",
    "            imprimir = imprimir  + f1\n",
    "            \n",
    "    imprimir = imprimir + str.replace(str(' '.join(['\\\\hhline{-|'] + ['-|']*int(len(datasets))) + '}\\n'),' ','')\n",
    "    imprimir = imprimir + str.replace(str(' '.join(['\\\\hhline{-|'] + ['-|']*int(len(datasets))) + '}\\n'),' ','')\n",
    "    imprimir = imprimir + str.replace(str(' '.join(['\\\\hhline{-|'] + ['-|']*int(len(datasets))) + '}\\n'),' ','')\n",
    "    imprimir = imprimir + str('\\\\end{tabular}}\\n')\n",
    "    imprimir = imprimir + str('\\\\label{{t.results_{}_{}}}\\n'.format(n_clas,tipo ))\n",
    "    imprimir = imprimir + str('\\\\end{center}\\n')\n",
    "    imprimir = imprimir + str('\\\\end{table*}\\n')\n",
    "\n",
    "    output.write(imprimir)"
   ]
  },
  {
   "cell_type": "code",
   "execution_count": 55,
   "metadata": {},
   "outputs": [
    {
     "name": "stderr",
     "output_type": "stream",
     "text": [
      "C:\\Users\\DANILO\\anaconda3\\envs\\parkinson_guilherme\\lib\\site-packages\\scipy\\stats\\morestats.py:3141: UserWarning: Exact p-value calculation does not work if there are ties. Switching to normal approximation.\n",
      "  warnings.warn(\"Exact p-value calculation does not work if there are \"\n",
      "C:\\Users\\DANILO\\anaconda3\\envs\\parkinson_guilherme\\lib\\site-packages\\scipy\\stats\\morestats.py:3155: UserWarning: Sample size too small for normal approximation.\n",
      "  warnings.warn(\"Sample size too small for normal approximation.\")\n"
     ]
    }
   ],
   "source": [
    "clAlgo = Algorithms()\n",
    "\n",
    "for tipo in tipos:     \n",
    "    \n",
    "\n",
    "    pt = PT(datasets,clAlgo.getAlgorithm('opf'), clAlgo.getAlgorithm(tipo), n_classifiers, 'results', tipo, individual=True)\n",
    "    \n",
    "    for n_clas in range(len(n_classifiers)):\n",
    "        \n",
    "        if tipo=='baseline':\n",
    "            clAlgo.algorithms_baseline = pt.loadBaselineNames(datasets[0],n_clas) \n",
    "            clAlgo.alias_algorithms_baseline = []\n",
    "            for i in clAlgo.algorithms_baseline:\n",
    "                clAlgo.alias_algorithms_baseline.append(i.replace(\"_\", \"\\_\"))\n",
    "        algorithms, alias_algorithms = clAlgo.getAlgorithmConcat(tipo)\n",
    "        \n",
    "        matrizValores= np.zeros((len(datasets),len(n_classifiers),len(algorithms),8))\n",
    "        matrizWilcoxon= np.zeros((len(datasets),len(n_classifiers),len(algorithms)))\n",
    "        \n",
    "        for dt in range(len(datasets)):\n",
    "            matrizValores[dt,n_clas,:,:] = pt.calcularValores(dt, n_clas)\n",
    "            matrizWilcoxon[dt,n_clas,:] = pt.calcularWilcoxon(dt,n_clas,matrizValores[dt,n_clas,:,4],index_metric=2)\n",
    "\n",
    "        impressao(matrizValores[:,n_clas,:,:], matrizWilcoxon[:,n_clas,:],n_classifiers[n_clas], tipo)"
   ]
  },
  {
   "cell_type": "code",
   "execution_count": 47,
   "metadata": {},
   "outputs": [
    {
     "data": {
      "text/plain": [
       "['baseline_nodivergence',\n",
       " 'opf_nodivergence',\n",
       " 'superLearner',\n",
       " 'divPruning',\n",
       " 'subspace']"
      ]
     },
     "execution_count": 47,
     "metadata": {},
     "output_type": "execute_result"
    }
   ],
   "source": [
    "tipos"
   ]
  },
  {
   "cell_type": "code",
   "execution_count": null,
   "metadata": {},
   "outputs": [],
   "source": []
  }
 ],
 "metadata": {
  "kernelspec": {
   "display_name": "Python 3",
   "language": "python",
   "name": "python3"
  },
  "language_info": {
   "codemirror_mode": {
    "name": "ipython",
    "version": 3
   },
   "file_extension": ".py",
   "mimetype": "text/x-python",
   "name": "python",
   "nbconvert_exporter": "python",
   "pygments_lexer": "ipython3",
   "version": "3.8.5"
  }
 },
 "nbformat": 4,
 "nbformat_minor": 4
}
