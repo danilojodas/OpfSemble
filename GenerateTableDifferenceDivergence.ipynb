{
 "cells": [
  {
   "cell_type": "code",
   "execution_count": 93,
   "metadata": {},
   "outputs": [
    {
     "name": "stdout",
     "output_type": "stream",
     "text": [
      "Automatically created module for IPython interactive environment\n"
     ]
    }
   ],
   "source": [
    "print(__doc__)\n",
    "import sys\n",
    "import numpy as np\n",
    "from print_table import PT\n",
    "\n",
    "datasets = {'Accent': 'accent','Cervical Cancer':'cervical_cancer','Diagnostic':'diagnostic','Forest Types':'forestTypes',\n",
    "            'Glass':'glass','Indian Liver':'indian_liver','Iris':'iris',\n",
    "            'Mammographic':'mammographic','DDR':'messidor','Prognostic':'prognostic','Seismic Bumps':'seismic_bumps',\n",
    "            'Vertebral Column':'vertebral_column'}\n",
    "\n",
    "algorithms_opf = {'OPF Mode':'mode','OPF Average':'average','OPF Intercluster':'intercluster',\n",
    "                  'OPF Mode Best':'mode_best','OPF Intracluster':'intracluster'}\n",
    "\n",
    "paths = {'Divergence':'results/opf_divergence','No divergence':'results/opf'}\n",
    "\n",
    "n_classifiers = [10,30,50,100]\n",
    "n_folds = 20"
   ]
  },
  {
   "cell_type": "code",
   "execution_count": 96,
   "metadata": {},
   "outputs": [],
   "source": [
    "for key_dv,dv in paths.items():\n",
    "    table='\\\\begin{sidewaystable}[!htb]\\n'\n",
    "    table+='\\\\centering\\n'\n",
    "    table+='\\\\caption{F1-score for each ensemble variant considering '+key_dv+'.}\\n'\n",
    "    table+='\\\\renewcommand{\\\\arraystretch}{1.5}\\n'\n",
    "    table+='\\\\setlength{\\\\tabcolsep}{6pt}\\n'\n",
    "    table+='\\\\resizebox{\\\\textwidth}{!}{\\n'\n",
    "    table+='\\\\begin{tabular}{|'+'c|'*(len(datasets)+1)+'}\\n'\n",
    "    table+='\\\\hline\\n'\n",
    "    table+=''.join(['& \\\\textbf{'+'{}'.format(ds)+'} ' for ds in datasets])+'\\\\\\\\ \\\\hline \\n'\n",
    "    \n",
    "    for n in n_classifiers:\n",
    "        table+='\\\\multicolumn{'+str(len(datasets)+1)+'}{|c|}{\\\\textbf{'+'{} classifiers'.format(n)+'}}\\\\\\\\ \\n \\\\hline \\n'\n",
    "        for key_alg, alg in algorithms_opf.items():\n",
    "            table+='\\\\textbf{'+'{}'.format(key_alg)+'} '        \n",
    "            for key_ds, ds in datasets.items():\n",
    "                f1 = []\n",
    "                for f in range(1,n_folds+1):                \n",
    "                    results = np.loadtxt('{}/{}/{}/{}/{}/results.txt'.format(dv,alg,ds,f,n),delimiter=',',dtype=object)\n",
    "                    f1.append(float(results[3]))\n",
    "                \n",
    "                table+=' & {:.4f}$\\\\pm${:.4f}'.format(np.array(f1).mean(),np.array(f1).std())\n",
    "            \n",
    "            table+='\\\\\\\\ \\n'\n",
    "        \n",
    "        table+='\\\\hline\\n'\n",
    "    \n",
    "    table+='\\\\end{tabular}}\\n'\n",
    "    table+='\\\\end{sidewaystable}'\n",
    "    \n",
    "    output= open('table_{}.txt'.format(key_dv), \"w\")\n",
    "    output.write(table)\n",
    "    output.close()"
   ]
  },
  {
   "cell_type": "code",
   "execution_count": null,
   "metadata": {},
   "outputs": [],
   "source": []
  }
 ],
 "metadata": {
  "kernelspec": {
   "display_name": "Python 3",
   "language": "python",
   "name": "python3"
  },
  "language_info": {
   "codemirror_mode": {
    "name": "ipython",
    "version": 3
   },
   "file_extension": ".py",
   "mimetype": "text/x-python",
   "name": "python",
   "nbconvert_exporter": "python",
   "pygments_lexer": "ipython3",
   "version": "3.8.5"
  }
 },
 "nbformat": 4,
 "nbformat_minor": 4
}
