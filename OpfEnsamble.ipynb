{
 "cells": [
  {
   "cell_type": "code",
   "execution_count": 1,
   "metadata": {},
   "outputs": [
    {
     "name": "stdout",
     "output_type": "stream",
     "text": [
      "Creating model 1\n",
      "Creating model  2\n",
      "Creating model  3\n",
      "Creating model  4\n",
      "Creating model  5\n",
      "Creating model  6\n",
      "Creating model  7\n",
      "Creating model  8\n",
      "Creating model  9\n",
      "Creating model  10\n"
     ]
    }
   ],
   "source": [
    "from opf_ensemble import OpfSemble\n",
    "import numpy as np\n",
    "import sys\n",
    "\n",
    "from sklearn.metrics import accuracy_score, recall_score, f1_score\n",
    "from opfython.models.unsupervised import UnsupervisedOPF\n",
    "\n",
    "opf_ens = OpfSemble(n_models=10, n_folds=10)"
   ]
  },
  {
   "cell_type": "code",
   "execution_count": 9,
   "metadata": {},
   "outputs": [],
   "source": [
    "train = np.loadtxt('data/vertebral_column/2/train.txt',delimiter=',', dtype=np.float32)\n",
    "valid = np.loadtxt('data/vertebral_column/2/valid.txt',delimiter=',', dtype=np.float32)\n",
    "test = np.loadtxt('data/vertebral_column/2/test.txt',delimiter=',', dtype=np.float32)\n",
    "\n",
    "X = train[:,:-1]\n",
    "y = train[:,-1].astype(np.int) \n",
    "\n",
    "X_valid = valid[:,:-1]\n",
    "y_valid = valid[:,-1].astype(np.int) \n",
    "\n",
    "X_test = test[:,:-1]\n",
    "y_test = test[:,-1].astype(np.int) \n",
    "\n",
    "new_x = opf_ens.fit(X, y)"
   ]
  },
  {
   "cell_type": "code",
   "execution_count": 12,
   "metadata": {},
   "outputs": [
    {
     "name": "stdout",
     "output_type": "stream",
     "text": [
      "5\n"
     ]
    }
   ],
   "source": [
    "np.set_printoptions(threshold=sys.maxsize)\n",
    "\n",
    "\n",
    "k_max = [5,10,20,30,40,50]\n",
    "best_k = 0\n",
    "value_best_k = -1.0\n",
    "\n",
    "for k in k_max:\n",
    "    opf_ens.fit_meta_model(new_x,k)\n",
    "    value = f1_score(opf_ens.predict(X_valid),y_valid)\n",
    "    if value>value_best_k:\n",
    "        best_k = k\n",
    "        value_best_k = value        \n",
    "print(best_k)\n",
    "opf_ens.fit_meta_model(new_x,best_k)\n",
    "pred_ensamble = opf_ens.predict(X_test)"
   ]
  },
  {
   "cell_type": "code",
   "execution_count": 13,
   "metadata": {},
   "outputs": [
    {
     "name": "stdout",
     "output_type": "stream",
     "text": [
      "Ensamble = 0.9411764705882353\n",
      "\n",
      "OPF_1 = 0.8571428571428571\n",
      "Extra Trees_1 = 0.875\n",
      "Random Forest_1 = 0.8888888888888888\n",
      "KNN_1 = 0.9253731343283582\n",
      "KNN_2 = 0.9411764705882353\n",
      "KNN_3 = 0.9253731343283582\n",
      "KNN_4 = 0.9411764705882353\n",
      "Extra Trees_2 = 0.8923076923076922\n",
      "KNN_5 = 0.8787878787878787\n",
      "Random Forest_2 = 0.8888888888888888\n"
     ]
    }
   ],
   "source": [
    "print('{} = {}\\n'.format('Ensamble',f1_score(pred_ensamble,y_test)))\n",
    "for key in opf_ens.ensemble:\n",
    "    model = opf_ens.ensemble[key]\n",
    "    pred = model.predict(X_test)\n",
    "    #res = (yhat == test_y).astype(int)\n",
    "    print('{} = {}'.format(key,f1_score(pred,y_test)))  "
   ]
  }
 ],
 "metadata": {
  "kernelspec": {
   "display_name": "Python 3",
   "language": "python",
   "name": "python3"
  },
  "language_info": {
   "codemirror_mode": {
    "name": "ipython",
    "version": 3
   },
   "file_extension": ".py",
   "mimetype": "text/x-python",
   "name": "python",
   "nbconvert_exporter": "python",
   "pygments_lexer": "ipython3",
   "version": "3.7.6"
  }
 },
 "nbformat": 4,
 "nbformat_minor": 4
}
