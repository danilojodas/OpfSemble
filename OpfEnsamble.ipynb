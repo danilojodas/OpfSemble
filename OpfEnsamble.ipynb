{
 "cells": [
  {
   "cell_type": "code",
   "execution_count": 1,
   "metadata": {},
   "outputs": [
    {
     "name": "stdout",
     "output_type": "stream",
     "text": [
      "Creating model 1\n",
      "Creating model  2\n",
      "Creating model  3\n",
      "Creating model  4\n",
      "Creating model  5\n",
      "Creating model  6\n",
      "Creating model  7\n",
      "Creating model  8\n",
      "Creating model  9\n",
      "Creating model  10\n"
     ]
    }
   ],
   "source": [
    "from opf_ensemble import OpfSemble\n",
    "import numpy as np\n",
    "import sys\n",
    "\n",
    "from sklearn.metrics import accuracy_score, recall_score, f1_score\n",
    "from opfython.models.unsupervised import UnsupervisedOPF\n",
    "\n",
    "opf_ens = OpfSemble(n_models=10, n_folds=10)\n",
    "\n",
    "np.set_printoptions(threshold=sys.maxsize)"
   ]
  },
  {
   "cell_type": "code",
   "execution_count": null,
   "metadata": {},
   "outputs": [],
   "source": [
    "def validation(classifiers_feats)\n",
    "    k_max = [5,10,20,30,40,50]\n",
    "    best_k = 0\n",
    "    value_best_k = -1.0\n",
    "\n",
    "    for k in k_max:\n",
    "        opf_ens.fit_meta_model(classifiers_feats,k)\n",
    "        value = f1_score(opf_ens.predict(X_valid),y_valid)\n",
    "        #save validation\n",
    "        if value>value_best_k:\n",
    "            best_k = k\n",
    "            value_best_k = value        \n",
    "    return best_k"
   ]
  },
  {
   "cell_type": "code",
   "execution_count": 12,
   "metadata": {},
   "outputs": [
    {
     "name": "stdout",
     "output_type": "stream",
     "text": [
      "5\n"
     ]
    }
   ],
   "source": [
    "def run(classifiers_feats):\n",
    "    best_k = validation()\n",
    "    opf_ens.fit_meta_model(classifiers_feats,best_k)\n",
    "    return opf_ens.predict(X_test)"
   ]
  },
  {
   "cell_type": "code",
   "execution_count": null,
   "metadata": {},
   "outputs": [],
   "source": [
    "def saveResults(X_train,Y_train, X_test, Y_test,  ds,f, approach, minority_class, exec_time, path_output):\n",
    "\n",
    "    path = '{}/{}/{}/{}'.format(path_output,approach,ds,f)\n",
    "    if not os.path.exists(path):\n",
    "        os.makedirs(path)\n",
    "        \n",
    "\n",
    "    results_print=[]\n",
    "    accuracy, recall, f1, pred = self.classify(X_train,Y_train, X_test, Y_test, minority_class)\n",
    "    results_print.append([0,accuracy, recall, f1, exec_time])\n",
    "\n",
    "    np.savetxt('{}/pred.txt'.format(path), pred, fmt='%d')\n",
    "    np.savetxt('{}/results.txt'.format(path), results_print, fmt='%d,%.5f,%.5f,%.5f,%.5f')\n",
    "    print('Results:')\n",
    "    print('    {}/results.txt'.format(path))"
   ]
  },
  {
   "cell_type": "code",
   "execution_count": null,
   "metadata": {},
   "outputs": [],
   "source": [
    "datasets = ['vertebral_column']\n",
    "\n",
    "for ds in datasets:\n",
    "    for f in range(1,21):\n",
    "        \n",
    "        train = np.loadtxt('data/{}/{}/train.txt'.format(ds,f),delimiter=',', dtype=np.float32)\n",
    "        valid = np.loadtxt('data/{}/{}/valid.txt'.format(ds,f),delimiter=',', dtype=np.float32)\n",
    "        test = np.loadtxt('data/{}/{}/test.txt'.format(ds,f),delimiter=',', dtype=np.float32)\n",
    "\n",
    "        X = train[:,:-1]\n",
    "        y = train[:,-1].astype(np.int) \n",
    "\n",
    "        X_valid = valid[:,:-1]\n",
    "        y_valid = valid[:,-1].astype(np.int) \n",
    "\n",
    "        X_test = test[:,:-1]\n",
    "        y_test = test[:,-1].astype(np.int) \n",
    "\n",
    "        new_x = opf_ens.fit(X, y)\n",
    "        pred_ensamble = run(new_x, X_test)\n",
    "        \n",
    "        #save results\n",
    "        print('{}={}'.format('Ensamble',f1_score(pred_ensamble,y_test)))\n",
    "        for key in opf_ens.ensemble:\n",
    "            model = opf_ens.ensemble[key]\n",
    "            pred = model.predict(X_test)\n",
    "            #res = (yhat == test_y).astype(int)\n",
    "            print('{}={}'.format(key,f1_score(pred,y_test))) "
   ]
  }
 ],
 "metadata": {
  "kernelspec": {
   "display_name": "Python 3",
   "language": "python",
   "name": "python3"
  },
  "language_info": {
   "codemirror_mode": {
    "name": "ipython",
    "version": 3
   },
   "file_extension": ".py",
   "mimetype": "text/x-python",
   "name": "python",
   "nbconvert_exporter": "python",
   "pygments_lexer": "ipython3",
   "version": "3.7.6"
  }
 },
 "nbformat": 4,
 "nbformat_minor": 4
}
